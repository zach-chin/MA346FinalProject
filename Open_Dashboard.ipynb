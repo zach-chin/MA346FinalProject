{
 "cells": [
  {
   "cell_type": "code",
   "source": "%env PROJECT_FOLDER MA346FinalProject",
   "metadata": {
    "cell_id": "9a22b3b68cb6496abe40d2b916496579",
    "tags": [],
    "owner_user_id": "de2e92ec-952e-41f6-8b50-c84be1ee0e0b",
    "deepnote_to_be_reexecuted": true,
    "source_hash": "a5e37601",
    "execution_start": 1651102671751,
    "deepnote_cell_type": "code",
    "deepnote_cell_height": 111.859375
   },
   "outputs": [
    {
     "name": "stdout",
     "text": "env: PROJECT_FOLDER=MA346FinalProject\n",
     "output_type": "stream"
    }
   ],
   "execution_count": null
  },
  {
   "cell_type": "code",
   "source": "# This copies the latest version of all your files into the folder for syncing with GitHub:\n!cp ../*.* \"../$PROJECT_FOLDER/\"\n\n# This commits those changes and pushes them to GitHub:\n!cd \"../$PROJECT_FOLDER/\" && git add -A && git commit -m 'First Commit' && git push",
   "metadata": {
    "cell_id": "19e99c1c9c004b79954d34113094bf04",
    "tags": [],
    "deepnote_to_be_reexecuted": true,
    "source_hash": "9f5f5e54",
    "execution_start": 1651102671793,
    "execution_millis": 3943,
    "deepnote_cell_type": "code",
    "deepnote_cell_height": 773
   },
   "outputs": [
    {
     "name": "stdout",
     "text": "[main 363f503] First Commit\n Committer: root <root@p-a9287e1c-6bc1-4264-baea-d2d6d56ccf53.projects-domain.projects.svc.cluster.local>\nYour name and email address were configured automatically based\non your username and hostname. Please check that they are accurate.\nYou can suppress this message by setting them explicitly. Run the\nfollowing command and follow the instructions in your editor to edit\nyour configuration file:\n\n    git config --global --edit\n\nAfter doing this, you may fix the identity used for this commit with:\n\n    git commit --amend --reset-author\n\n 7 files changed, 19015 insertions(+)\n create mode 100644 Exploration.ipynb\n create mode 100644 Final_Report.ipynb\n create mode 100644 Open_Dashboard.ipynb\n create mode 100644 avocado.csv\n create mode 100644 dashboard.py\n create mode 100644 init.ipynb\n create mode 100644 requirements.txt\nEnumerating objects: 10, done.\nCounting objects: 100% (10/10), done.\nDelta compression using up to 2 threads\nCompressing objects: 100% (8/8), done.\nWriting objects: 100% (9/9), 702.37 KiB | 4.84 MiB/s, done.\nTotal 9 (delta 1), reused 0 (delta 0)\nremote: Resolving deltas: 100% (1/1), done.\u001b[K\nTo https://github.com/zach-chin/MA346FinalProject.git\n   cc81d14..363f503  main -> main\n",
     "output_type": "stream"
    }
   ],
   "execution_count": null
  },
  {
   "cell_type": "markdown",
   "source": "<a style='text-decoration:none;line-height:16px;display:flex;color:#5B5B62;padding:10px;justify-content:end;' href='https://deepnote.com?utm_source=created-in-deepnote-cell&projectId=a9287e1c-6bc1-4264-baea-d2d6d56ccf53' target=\"_blank\">\n<img alt='Created in deepnote.com' style='display:inline;max-height:16px;margin:0px;margin-right:7.5px;' src='data:image/svg+xml;base64,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' > </img>\nCreated in <span style='font-weight:600;margin-left:4px;'>Deepnote</span></a>",
   "metadata": {
    "tags": [],
    "created_in_deepnote_cell": true,
    "deepnote_cell_type": "markdown"
   }
  }
 ],
 "nbformat": 4,
 "nbformat_minor": 2,
 "metadata": {
  "orig_nbformat": 2,
  "deepnote": {},
  "deepnote_notebook_id": "2d1c0388-7a4f-4bb8-b68d-24a4a60c61c7",
  "deepnote_execution_queue": [
   {
    "cellId": "9a22b3b68cb6496abe40d2b916496579",
    "sessionId": "4d49af21-f650-4a04-9058-5a7a28069960",
    "msgId": "66f27713-c313-4ba4-9f87-6083af56450e"
   },
   {
    "cellId": "19e99c1c9c004b79954d34113094bf04",
    "sessionId": "4d49af21-f650-4a04-9058-5a7a28069960",
    "msgId": "d3b93b2b-57d5-4238-b697-359e84cdc1b7"
   }
  ]
 }
}